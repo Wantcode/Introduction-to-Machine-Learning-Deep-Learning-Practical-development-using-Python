{
 "cells": [
  {
   "cell_type": "code",
   "execution_count": 1,
   "metadata": {
    "collapsed": true
   },
   "outputs": [],
   "source": [
    "import struct"
   ]
  },
  {
   "cell_type": "code",
   "execution_count": 5,
   "metadata": {
    "collapsed": true
   },
   "outputs": [],
   "source": [
    "def to_csv(name, maxdata):\n",
    "    lbl_f = open('./mnist/' + name + '-labels-idx1-ubyte', 'rb')\n",
    "    img_f = open('./mnist/' + name + '-images-idx3-ubyte', 'rb')\n",
    "    csv_f = open('./mnist/' + name + '.csv', 'w', encoding='utf-8')\n",
    "    \n",
    "    mag, lbl_count = struct.unpack(\">II\", lbl_f.read(8))\n",
    "    print(mag)\n",
    "    print(lbl_count)\n",
    "    mag, img_count = struct.unpack(\">II\", img_f.read(8))\n",
    "    print(mag)\n",
    "    print(img_count)"
   ]
  },
  {
   "cell_type": "code",
   "execution_count": 6,
   "metadata": {},
   "outputs": [
    {
     "name": "stdout",
     "output_type": "stream",
     "text": [
      "2049\n",
      "60000\n",
      "2051\n",
      "60000\n"
     ]
    }
   ],
   "source": [
    "to_csv('train', 1000)"
   ]
  },
  {
   "cell_type": "code",
   "execution_count": null,
   "metadata": {
    "collapsed": true
   },
   "outputs": [],
   "source": []
  }
 ],
 "metadata": {
  "kernelspec": {
   "display_name": "Python 3",
   "language": "python",
   "name": "python3"
  },
  "language_info": {
   "codemirror_mode": {
    "name": "ipython",
    "version": 3
   },
   "file_extension": ".py",
   "mimetype": "text/x-python",
   "name": "python",
   "nbconvert_exporter": "python",
   "pygments_lexer": "ipython3",
   "version": "3.6.0"
  }
 },
 "nbformat": 4,
 "nbformat_minor": 2
}
