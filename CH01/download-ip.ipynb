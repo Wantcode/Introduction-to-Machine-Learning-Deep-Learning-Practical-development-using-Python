{
 "cells": [
  {
   "cell_type": "code",
   "execution_count": 36,
   "metadata": {
    "collapsed": true
   },
   "outputs": [],
   "source": [
    "import urllib3"
   ]
  },
  {
   "cell_type": "code",
   "execution_count": 37,
   "metadata": {
    "collapsed": true
   },
   "outputs": [],
   "source": [
    "url = \"http://api.aoikujira.com/ip/ini\""
   ]
  },
  {
   "cell_type": "code",
   "execution_count": 38,
   "metadata": {},
   "outputs": [],
   "source": [
    "http = urllib3.PoolManager()"
   ]
  },
  {
   "cell_type": "code",
   "execution_count": 39,
   "metadata": {},
   "outputs": [],
   "source": [
    "r = http.request('GET', url, preload_content=False)"
   ]
  },
  {
   "cell_type": "code",
   "execution_count": 40,
   "metadata": {},
   "outputs": [
    {
     "data": {
      "text/plain": [
       "<urllib3.response.HTTPResponse at 0x255a3dae198>"
      ]
     },
     "execution_count": 40,
     "metadata": {},
     "output_type": "execute_result"
    }
   ],
   "source": [
    "r"
   ]
  },
  {
   "cell_type": "code",
   "execution_count": 41,
   "metadata": {},
   "outputs": [
    {
     "data": {
      "text/plain": [
       "200"
      ]
     },
     "execution_count": 41,
     "metadata": {},
     "output_type": "execute_result"
    }
   ],
   "source": [
    "r.status"
   ]
  },
  {
   "cell_type": "code",
   "execution_count": 43,
   "metadata": {},
   "outputs": [
    {
     "data": {
      "text/plain": [
       "b''"
      ]
     },
     "execution_count": 43,
     "metadata": {},
     "output_type": "execute_result"
    }
   ],
   "source": [
    "r.data"
   ]
  },
  {
   "cell_type": "code",
   "execution_count": 42,
   "metadata": {},
   "outputs": [
    {
     "data": {
      "text/plain": [
       "b'<br />\\n<b>Notice</b>:  Undefined index: HTTP_USER_AGENT in <b>/home/sites/heteml/users/k/u/j/kujirahand1914/web/aoikujira.com/api/ip/get.php</b> on line <b>11</b><br />\\n<br />\\n<b>Warning</b>:  Cannot modify header information - headers already sent by (output started at /home/sites/heteml/users/k/u/j/kujirahand1914/web/aoikujira.com/api/ip/get.php:11) in <b>/home/sites/heteml/users/k/u/j/kujirahand1914/web/aoikujira.com/api/ip/get.php</b> on line <b>37</b><br />\\n[ip]\\nAPI_URI=http://api.aoikujira.com/ip/get.php\\nREMOTE_ADDR=115.21.28.202\\nREMOTE_HOST=115.21.28.202\\nREMOTE_PORT=1393\\nHTTP_HOST=api.aoikujira.com\\nHTTP_USER_AGENT=\\nHTTP_ACCEPT_LANGUAGE=\\nHTTP_ACCEPT_CHARSET=\\nSERVER_PORT=80\\nFORMAT=ini\\n\\n'"
      ]
     },
     "execution_count": 42,
     "metadata": {},
     "output_type": "execute_result"
    }
   ],
   "source": [
    "r.read()"
   ]
  },
  {
   "cell_type": "code",
   "execution_count": null,
   "metadata": {
    "collapsed": true
   },
   "outputs": [],
   "source": []
  }
 ],
 "metadata": {
  "kernelspec": {
   "display_name": "Python 3",
   "language": "python",
   "name": "python3"
  },
  "language_info": {
   "codemirror_mode": {
    "name": "ipython",
    "version": 3
   },
   "file_extension": ".py",
   "mimetype": "text/x-python",
   "name": "python",
   "nbconvert_exporter": "python",
   "pygments_lexer": "ipython3",
   "version": "3.6.0"
  }
 },
 "nbformat": 4,
 "nbformat_minor": 2
}
